{
 "cells": [
  {
   "cell_type": "markdown",
   "id": "985989a6-a2fd-4902-90d1-488f0d66eef0",
   "metadata": {},
   "source": [
    "## Линейная модель\n",
    "\n",
    "Линейная модель - это математическая модель, используемая в машинном обучении для предсказания значений на основе линейной комбинации входных признаков. Она предполагает, что выходное значение (прогноз) можно выразить как взвешенную сумму входных признаков с добавлением смещения (bias). Математически это можно записать следующим образом:\n",
    "\n",
    "\n",
    "$\\hat{y} = w_1x_1 + w_2x_2 + \\ldots + w_nx_n + b$\n",
    "\n",
    "где:\n",
    "- $\\hat{y}$ - прогнозируемое значение,\n",
    "- $w_1, w_2, \\ldots, w_n$ - веса (параметры) модели для каждого признака,\n",
    "- $x_1, x_2, \\ldots, x_n$ - входные признаки,\n",
    "- $b$ - смещение (bias).\n",
    "\n",
    "### Вычисление выхода линейной модели\n",
    "\n",
    "Для вычисления выхода линейной модели, просто подставьте значения признаков в уравнение, используя соответствующие веса и смещение. Матричная формула для вычисления выхода линейной модели для набора данных \\(X\\) выглядит следующим образом:\n",
    "\n",
    "$\\hat{Y} = X \\cdot \\mathbf{w} + b$\n",
    "\n",
    "где:\n",
    "- $\\hat{Y}$ - вектор прогнозов для всего набора данных,\n",
    "- $X$ - матрица признаков, где каждая строка представляет один образец, а столбцы - признаки,\n",
    "- $\\mathbf{w}$ - вектор весов модели,\n",
    "- $b$ - смещение (bias).\n",
    "\n",
    "### Обучение линейной модели\n",
    "\n",
    "Обучение линейной модели заключается в настройке параметров (весов и смещения) так, чтобы они наилучшим образом соответствовали обучающим данным. Одним из наиболее распространенных методов обучения линейной модели является градиентный спуск.\n",
    "\n",
    "### Градиентный спуск\n",
    "\n",
    "Градиентный спуск - это метод оптимизации, используемый для обновления параметров модели с целью минимизации функции потерь. Функция потерь оценивает, насколько хорошо модель предсказывает реальные значения на обучающих данных.\n",
    "\n",
    "Для линейной регрессии, часто используется среднеквадратичная ошибка (Mean Squared Error - MSE) в качестве функции потерь:\n",
    "\n",
    "$MSE = \\frac{1}{N} \\sum_{i=1}^{N} (y_i - \\hat{y}_i)^2$\n",
    "\n",
    "где:\n",
    "- $N$ - количество обучающих примеров,\n",
    "- $y_i$ - реальное значение для i-го примера,\n",
    "- $\\hat{y}_i$ - прогнозированное значение для i-го примера.\n",
    "\n",
    "### Корректировка весов модели\n",
    "\n",
    "Для обновления весов модели в методе градиентного спуска, используется градиент функции потерь по отношению к параметрам модели. Градиент показывает направление наибольшего увеличения функции потерь, поэтому мы двигаемся в противоположном направлении градиента, чтобы уменьшить потери. Формула для обновления весов выглядит следующим образом:\n",
    "\n",
    "$\\mathbf{w}_{\\text{новые}} = \\mathbf{w}_{\\text{старые}} - \\text{learning_rate} \\cdot \\nabla L$\n",
    "\n",
    "где:\n",
    "- $\\mathbf{w}_{\\text{новые}}$ - новые веса после обновления,\n",
    "- $\\mathbf{w}_{\\text{старые}}$ - текущие веса,\n",
    "- $\\text{learning_rate}$ - скорость обучения (коэффициент, контролирующий размер шага градиентного спуска),\n",
    "- $\\nabla L$ - градиент функции потерь по параметрам модели.\n",
    "\n",
    "Этот процесс повторяется до достижения сходимости или определенного числа итераций.\n",
    "\n",
    "## Классификатор на линейной модели\n",
    "\n",
    "На линейной модели можно построить и классификатор. Для этого нужно выход линейной модели отбразить в интервал от 0 до 1. В этом нам поможет логистическая функция:\n",
    "\n",
    "$\\sigma(z) = \\frac{1}{1 + e^{-z}}$\n",
    "\n",
    "Для обучения скорректируем функцию потерь. Нетрудно показать, что функция, называемая кросс-энтропией на самом деле соответствует максимизации правдоподобия (кстати, почитайте про правдоподобие), ниже представлено выражение для нее\n",
    "\n",
    "$BCE = -\\frac{1}{N} \\sum_{i=1}^{N} \\left(y_i \\log(\\hat{y}_i) + (1 - y_i) \\log(1 - \\hat{y}_i)\\right)$\n",
    "\n",
    "где:\n",
    "- $N$ - количество обучающих примеров,\n",
    "- $y_i$ - истинная метка класса (0 или 1) для i-го примера,\n",
    "- $\\hat{y}_i$ - вероятность принадлежности к классу 1 для i-го примера (выход сигмоидной функции).\n",
    "\n",
    "Будем считать, что модель относит объект к 1 классу, если ее выход $>=0.5$, иначе - 0 класс.\n",
    "\n",
    "## Как считать градиенты\n",
    "\n",
    "Приведу градиент для кросс-энтропии:\n",
    "\n",
    "$\\nabla_{\\mathbf{w}} \\text{BCE} = -\\frac{1}{N} \\mathbf{X}^T (\\mathbf{y} - \\hat{\\mathbf{y}})$\n",
    "\n",
    "Для MSE вычислить градиент самостоятельно"
   ]
  },
  {
   "cell_type": "code",
   "execution_count": 15,
   "id": "9a04ef46-22ed-49ba-a1d0-da06c40829b1",
   "metadata": {
    "tags": []
   },
   "outputs": [],
   "source": [
    "import numpy as np\n",
    "import matplotlib.pyplot as plt\n",
    "\n",
    "\n",
    "class LinearModel:\n",
    "    def __init__(self, num_features, bias = 0): \n",
    "        self.num_features = num_features \n",
    "        self.weights = np.zeros(num_features) \n",
    "        self.bias = bias \n",
    "\n",
    "\n",
    "    def __call__(self, X): \n",
    "        return np.dot(X, self.weights) + self.bias \n",
    "\n",
    "\n",
    "class LinearRegressor(LinearModel):\n",
    "    def fit(self, X, y, learning_rate=0.01, epochs=100):\n",
    "        error_history = []\n",
    "        for _ in range(epochs):\n",
    "            predictions = self(X)\n",
    "            error = y - predictions\n",
    "            gradient = -2 / len(X) * np.dot(X.T, error)\n",
    "            self.weights -= learning_rate * gradient\n",
    "            self.bias -= learning_rate * np.mean(error)\n",
    "            current_error = ((y - predictions) ** 2).sum()\n",
    "            error_history.append(current_error)\n",
    "        return error_history\n",
    "\n",
    "\n",
    "    def predict(self, X):\n",
    "        return self(X)\n",
    "\n",
    "\n",
    "class LinearClassifier(LinearModel):\n",
    "    def fit(self, X, y, learning_rate=0.01, epochs=100):\n",
    "        error_history = []\n",
    "        for _ in range(epochs):\n",
    "            predictions = self(X)\n",
    "            sigmoid = 1 / (1 + np.exp(-predictions))\n",
    "            error = y - sigmoid\n",
    "            gradient = -np.dot(X.T, error) / len(X)\n",
    "            self.weights -= learning_rate * gradient\n",
    "            self.bias -= learning_rate * np.mean(error)\n",
    "            current_error = -np.mean(y * np.log(sigmoid) + (1 - y) * np.log(1 - sigmoid))\n",
    "            error_history.append(current_error)\n",
    "        return error_history\n",
    "\n",
    "\n",
    "    def predict(self, X):\n",
    "        predictions = self(X)\n",
    "        sigmoid = 1 / (1 + np.exp(-predictions))\n",
    "        return np.round(sigmoid)\n",
    "\n",
    "\n",
    "    def predict_proba(self, X):\n",
    "        predictions = self(X)\n",
    "        sigmoid = 1 / (1 + np.exp(-predictions))\n",
    "        return sigmoid"
   ]
  },
  {
   "cell_type": "markdown",
   "id": "6e0bb8fc-ec29-4cd7-a693-ac77b0a46cff",
   "metadata": {},
   "source": [
    "## Проверьте модели на данных\n",
    "\n",
    "### Линейная модель\n",
    "\n",
    "#### Description:\n",
    "The Student Performance Dataset is a dataset designed to examine the factors influencing academic student performance. The dataset consists of 10,000 student records, with each record containing information about various predictors and a performance index.\n",
    "\n",
    "#### Variables:\n",
    "- Hours Studied: The total number of hours spent studying by each student.\n",
    "- Previous Scores: The scores obtained by students in previous tests.\n",
    "- Extracurricular Activities: Whether the student participates in extracurricular activities (Yes or No).\n",
    "- Sleep Hours: The average number of hours of sleep the student had per day.\n",
    "- Sample Question Papers Practiced: The number of sample question papers the student practiced.\n",
    "\n",
    "#### Target Variable:\n",
    "\n",
    "- Performance Index: A measure of the overall performance of each student. The performance index represents the student's academic performance and has been rounded to the nearest integer. The index ranges from 10 to 100, with higher values indicating better performance."
   ]
  },
  {
   "cell_type": "code",
   "execution_count": 16,
   "id": "47687e94-a2d2-4c25-8d48-54d13d621fb8",
   "metadata": {
    "tags": []
   },
   "outputs": [],
   "source": [
    "import pandas as pd"
   ]
  },
  {
   "cell_type": "code",
   "execution_count": 17,
   "id": "031d71d4-ceeb-4611-8a43-7012308a19e6",
   "metadata": {
    "tags": []
   },
   "outputs": [
    {
     "name": "stdout",
     "output_type": "stream",
     "text": [
      "   Hours Studied  Previous Scores Extracurricular Activities  Sleep Hours  \\\n",
      "0              7               99                        Yes            9   \n",
      "1              4               82                         No            4   \n",
      "2              8               51                        Yes            7   \n",
      "3              5               52                        Yes            5   \n",
      "4              7               75                         No            8   \n",
      "\n",
      "   Sample Question Papers Practiced  Performance Index  \n",
      "0                                 1               91.0  \n",
      "1                                 2               65.0  \n",
      "2                                 2               45.0  \n",
      "3                                 2               36.0  \n",
      "4                                 5               66.0  \n"
     ]
    },
    {
     "name": "stderr",
     "output_type": "stream",
     "text": [
      "C:\\Users\\User\\AppData\\Local\\Temp\\ipykernel_7956\\590187101.py:6: FutureWarning: Downcasting behavior in `replace` is deprecated and will be removed in a future version. To retain the old behavior, explicitly call `result.infer_objects(copy=False)`. To opt-in to the future behavior, set `pd.set_option('future.no_silent_downcasting', True)`\n",
      "  X['Extracurricular Activities'] = X['Extracurricular Activities'].replace({'Yes': 1, 'No': 0})\n"
     ]
    }
   ],
   "source": [
    "data = pd.read_csv('Student_Performance.csv')\n",
    "print(data.head())\n",
    "\n",
    "Y = data['Performance Index']\n",
    "X = data.drop(columns=['Performance Index'])\n",
    "X['Extracurricular Activities'] = X['Extracurricular Activities'].replace({'Yes': 1, 'No': 0})\n",
    "X = X.to_numpy()"
   ]
  },
  {
   "cell_type": "code",
   "execution_count": 18,
   "id": "c5a2ec08-17d8-4e11-9f20-b2ccd9a9f760",
   "metadata": {
    "tags": []
   },
   "outputs": [
    {
     "name": "stdout",
     "output_type": "stream",
     "text": [
      "\n",
      "    Среднее по столбцам: [ 4.9929 69.4457  0.4948  6.5306  4.5833]\n",
      "\n",
      "    Стандартное отклонение по столбцам: [ 2.58917933 17.34228507  0.49997296  1.69577818  2.86720441]\n",
      "\n",
      "    Нормализация данных по столбцам:\n",
      "[[ 0.77518771  1.70417565  1.01045465  1.45620461 -1.24975394]\n",
      " [-0.38348058  0.72391268 -0.98965352 -1.49229423 -0.90098215]\n",
      " [ 1.16141048 -1.06362569  1.01045465  0.27680507 -0.90098215]\n",
      " ...\n",
      " [ 0.38896495  0.7815752   1.01045465  0.86650484  0.1453332 ]\n",
      " [ 1.54763324  1.5888506   1.01045465  0.27680507 -1.59852572]\n",
      " [ 0.77518771  0.26261245 -0.98965352  0.86650484 -1.24975394]]\n",
      "\n",
      "    Нормализация выходных данных:\n",
      "0       1.862167\n",
      "1       0.508818\n",
      "2      -0.532220\n",
      "3      -1.000687\n",
      "4       0.560870\n",
      "          ...   \n",
      "9995   -1.677362\n",
      "9996    0.144454\n",
      "9997    0.977285\n",
      "9998    2.070374\n",
      "9999    0.456766\n",
      "Name: Performance Index, Length: 10000, dtype: float64\n",
      "\n"
     ]
    }
   ],
   "source": [
    "# Вычислите среднее по столбцам.\n",
    "mean = np.mean(X, axis=0)\n",
    "\n",
    "# Вычислите стандартное отклонение по столбцам.\n",
    "std = np.std(X, axis=0)\n",
    "\n",
    "# Нормализуйте данные по столбцам (стандартное масштабирование).\n",
    "normalized_X = (X - mean) / std\n",
    "\n",
    "# Нормализуйте и выходные данные\n",
    "normalized_Y = (Y - np.mean(Y))/np.std(Y)\n",
    "\n",
    "print(f\"\"\"\n",
    "    Среднее по столбцам: {mean}\n",
    "\n",
    "    Стандартное отклонение по столбцам: {std}\n",
    "\n",
    "    Нормализация данных по столбцам:\n",
    "{normalized_X}\n",
    "\n",
    "    Нормализация выходных данных:\n",
    "{normalized_Y}\n",
    "\"\"\")"
   ]
  },
  {
   "cell_type": "code",
   "execution_count": 19,
   "id": "e5c8fdd2-2f45-4765-900a-a0d949c8d96f",
   "metadata": {
    "tags": []
   },
   "outputs": [
    {
     "name": "stdout",
     "output_type": "stream",
     "text": [
      "[np.float64(9999.999999999996), np.float64(9611.089673780974), np.float64(9237.482548704247), np.float64(8878.5762230738), np.float64(8533.792017738768), np.float64(8202.57404153262), np.float64(7884.388293544332), np.float64(7578.721800769341), np.float64(7285.081789745456), np.float64(7002.99489083383), np.float64(6732.0063738579665), np.float64(6471.6794138645455), np.float64(6221.594385818516), np.float64(5981.348187091818), np.float64(5750.553586650056), np.float64(5528.8385998846325), np.float64(5315.845888079393), np.float64(5111.232181540679), np.float64(4914.667725457999), np.float64(4725.835747599289), np.float64(4544.431946980094), np.float64(4370.164002679912), np.float64(4202.751102011592), np.float64(4041.9234872809143), np.float64(3887.4220204036587), np.float64(3738.9977646762604), np.float64(3596.411583023991), np.float64(3459.4337520771996), np.float64(3327.8435914517886), np.float64(3201.4291076347), np.float64(3079.986651898768), np.float64(2963.3205916940638), np.float64(2851.242994984584), np.float64(2743.5733270201226), np.float64(2640.1381590532637), np.float64(2540.7708885307466), np.float64(2445.311470307026), np.float64(2353.606158445671), np.float64(2265.507258191369), np.float64(2180.8728877117446), np.float64(2099.566749224022), np.float64(2021.4579091367082), np.float64(1946.4205868510799), np.float64(1874.3339518812322), np.float64(1805.0819289649266), np.float64(1738.5530108503763), np.float64(1674.640078456519), np.float64(1613.2402281162679), np.float64(1554.2546056236506), np.float64(1497.5882468167788), np.float64(1443.149924439137), np.float64(1390.8520010318289), np.float64(1340.6102876191894), np.float64(1292.3439079594982), np.float64(1245.9751681415694), np.float64(1201.4294313165974), np.float64(1158.63499736296), np.float64(1117.5229872896468), np.float64(1078.0272321916361), np.float64(1040.084166577904), np.float64(1003.6327258998183), np.float64(968.6142481144527), np.float64(934.9723791238798), np.float64(902.6529819377647), np.float64(871.6040494125994), np.float64(841.7756204266925), np.float64(813.1196993555867), np.float64(785.5901787179006), np.float64(759.1427648667271), np.float64(733.7349066066248), np.float64(709.3257266209766), np.float64(685.8759555990315), np.float64(663.3478689562944), np.float64(641.7052260461325), np.float64(620.9132117644805), np.float64(600.9383804533988), np.float64(581.7486020129489), np.float64(563.3130101344192), np.float64(545.6019525713591), np.float64(528.5869433681687), np.float64(512.2406169691602), np.float64(496.5366841340359), np.float64(481.44988958864764), np.float64(466.9559713427082), np.float64(453.0316216088131), np.float64(439.65444925971593), np.float64(426.8029437632918), np.float64(414.4564405369974), np.float64(402.5950876659414), np.float64(391.1998139308692), np.float64(380.25229809448894), np.float64(369.73493939659136), np.float64(359.6308292103742), np.float64(349.9237238142466), np.float64(340.59801823520274), np.float64(331.63872112157077), np.float64(323.0314306046131), np.float64(314.7623111100494), np.float64(306.8180710820998), np.float64(299.1859415841308)]\n"
     ]
    }
   ],
   "source": [
    "lr = LinearRegressor(num_features=X.shape[1])\n",
    "history = lr.fit(normalized_X, normalized_Y, learning_rate=0.01, epochs=100) # История обучения\n",
    "\n",
    "print(history)"
   ]
  },
  {
   "cell_type": "code",
   "execution_count": 20,
   "id": "c5f2b9d0-6210-4107-8c47-1893ded1cdb1",
   "metadata": {
    "tags": []
   },
   "outputs": [
    {
     "data": {
      "image/png": "[encoded data removed]",
      "text/plain": [
       "<Figure size 640x480 with 1 Axes>"
      ]
     },
     "metadata": {},
     "output_type": "display_data"
    }
   ],
   "source": [
    "epochs = range(1, len(history) + 1)\n",
    "\n",
    "# Постройте график обучения.\n",
    "plt.plot(epochs, history, 'b', label='MSE')\n",
    "plt.title('График обучения')\n",
    "plt.xlabel('Эпохи')\n",
    "plt.ylabel('MSE')\n",
    "plt.legend()\n",
    "\n",
    "# Отобразите график.\n",
    "plt.show()"
   ]
  },
  {
   "cell_type": "markdown",
   "id": "1e91f08e-3089-4464-9763-27fef0a1a74a",
   "metadata": {},
   "source": [
    "### Классификатор\n",
    "#### Context\n",
    "When a bank receives a loan application, based on the applicant’s profile the bank has to make a decision regarding whether to go ahead with the loan approval or not. Two types of risks are associated with the bank’s decision.\"\n",
    "\n",
    "\"If the applicant is a good credit risk, i.e. is likely to repay the loan, then not approving the loan to the person results in a loss of business to the bank\n",
    "If the applicant is a bad credit risk, i.e. is not likely to repay the loan, then approving the loan to the person results in a financial loss to the bank.\"\n",
    "\n",
    "The predictors that may potentially have any influence on Creditability:\n",
    "\n",
    "Account Balance: No account (1), None (No balance) (2), Some Balance (3)\n",
    "\n",
    "Payment Status: Some Problems (1), Paid Up (2), No Problems (in this bank) (3)\n",
    "\n",
    "Savings/Stock Value: None, Below 100 DM, [100, 1000] DM, Above 1000 DM\n",
    "\n",
    "Employment Length: Below 1 year (including unemployed), [1, 4), [4, 7), Above 7\n",
    "\n",
    "Sex/Marital Status: Male Divorced/Single, Male Married/Widowed, Female\n",
    "\n",
    "No of Credits at this bank: 1, More than 1\n",
    "\n",
    "Guarantor: None, Yes\n",
    "\n",
    "Concurrent Credits: Other Banks or Dept Stores, None\n",
    "\n",
    "ForeignWorker variable may be dropped from the study\n",
    "\n",
    "Purpose of Credit: New car, Used car, Home Related, Other"
   ]
  },
  {
   "cell_type": "code",
   "execution_count": 21,
   "id": "ffcd3871-36fb-4cf4-8178-7f8e267909a1",
   "metadata": {
    "tags": []
   },
   "outputs": [
    {
     "name": "stdout",
     "output_type": "stream",
     "text": [
      "     Account_Balance  Payment_Status_of_Previous_Credit  Value_Savings_Stocks  \\\n",
      "0                  1                                  4                     1   \n",
      "1                  1                                  4                     1   \n",
      "2                  2                                  2                     2   \n",
      "3                  1                                  4                     1   \n",
      "4                  1                                  4                     1   \n",
      "..               ...                                ...                   ...   \n",
      "995                1                                  2                     1   \n",
      "996                1                                  2                     1   \n",
      "997                4                                  4                     5   \n",
      "998                2                                  2                     5   \n",
      "999                1                                  2                     5   \n",
      "\n",
      "     Length_of_current_employment  Sex_Marital_Status  \\\n",
      "0                               2                   2   \n",
      "1                               3                   3   \n",
      "2                               4                   2   \n",
      "3                               3                   3   \n",
      "4                               3                   3   \n",
      "..                            ...                 ...   \n",
      "995                             3                   3   \n",
      "996                             5                   3   \n",
      "997                             5                   3   \n",
      "998                             1                   3   \n",
      "999                             5                   3   \n",
      "\n",
      "     No_of_Credits_at_this_Bank  Guarantors  Concurrent_Credits  Purpose  \n",
      "0                             1           1                   3        2  \n",
      "1                             2           1                   3        0  \n",
      "2                             1           1                   3        9  \n",
      "3                             2           1                   3        0  \n",
      "4                             2           1                   1        0  \n",
      "..                          ...         ...                 ...      ...  \n",
      "995                           1           1                   3        3  \n",
      "996                           1           2                   3        0  \n",
      "997                           1           1                   3        0  \n",
      "998                           1           1                   3        3  \n",
      "999                           1           1                   3        2  \n",
      "\n",
      "[1000 rows x 9 columns]\n"
     ]
    }
   ],
   "source": [
    "data = pd.read_csv('german.csv', sep=';')\n",
    "Y = data.Creditability\n",
    "# Предикторы, которые потенциально могут иметь какое-либо влияние на кредитоспособность:\n",
    "X = data[\n",
    "    [\n",
    "        'Account_Balance', # Баланс счета\n",
    "        'Payment_Status_of_Previous_Credit', # Статус платежа\n",
    "        'Value_Savings_Stocks', # Стоимость сбережений/акций\n",
    "        'Length_of_current_employment', # Срок трудоустройства\n",
    "        'Sex_Marital_Status', # Пол/Семейное положение\n",
    "        'No_of_Credits_at_this_Bank', # Количество кредитов в этом банке\n",
    "        'Guarantors', # Поручитель\n",
    "        'Concurrent_Credits', # Одновременные кредиты\n",
    "        'Purpose' # Цель кредита\n",
    "    ]\n",
    "]\n",
    "\n",
    "print(X)"
   ]
  },
  {
   "cell_type": "code",
   "execution_count": 22,
   "id": "3f5185da-6c3a-4a4e-aece-10f028d70695",
   "metadata": {
    "tags": []
   },
   "outputs": [
    {
     "name": "stdout",
     "output_type": "stream",
     "text": [
      "       Creditability  Account_Balance  Duration_of_Credit_monthly  \\\n",
      "count    1000.000000      1000.000000                 1000.000000   \n",
      "mean        0.700000         2.577000                   20.903000   \n",
      "std         0.458487         1.257638                   12.058814   \n",
      "min         0.000000         1.000000                    4.000000   \n",
      "25%         0.000000         1.000000                   12.000000   \n",
      "50%         1.000000         2.000000                   18.000000   \n",
      "75%         1.000000         4.000000                   24.000000   \n",
      "max         1.000000         4.000000                   72.000000   \n",
      "\n",
      "       Payment_Status_of_Previous_Credit      Purpose  Credit_Amount  \\\n",
      "count                         1000.00000  1000.000000     1000.00000   \n",
      "mean                             2.54500     2.828000     3271.24800   \n",
      "std                              1.08312     2.744439     2822.75176   \n",
      "min                              0.00000     0.000000      250.00000   \n",
      "25%                              2.00000     1.000000     1365.50000   \n",
      "50%                              2.00000     2.000000     2319.50000   \n",
      "75%                              4.00000     3.000000     3972.25000   \n",
      "max                              4.00000    10.000000    18424.00000   \n",
      "\n",
      "       Value_Savings_Stocks  Length_of_current_employment  \\\n",
      "count           1000.000000                   1000.000000   \n",
      "mean               2.105000                      3.384000   \n",
      "std                1.580023                      1.208306   \n",
      "min                1.000000                      1.000000   \n",
      "25%                1.000000                      3.000000   \n",
      "50%                1.000000                      3.000000   \n",
      "75%                3.000000                      5.000000   \n",
      "max                5.000000                      5.000000   \n",
      "\n",
      "       Instalment_per_cent  Sex_Marital_Status  ...  \\\n",
      "count          1000.000000          1000.00000  ...   \n",
      "mean              2.973000             2.68200  ...   \n",
      "std               1.118715             0.70808  ...   \n",
      "min               1.000000             1.00000  ...   \n",
      "25%               2.000000             2.00000  ...   \n",
      "50%               3.000000             3.00000  ...   \n",
      "75%               4.000000             3.00000  ...   \n",
      "max               4.000000             4.00000  ...   \n",
      "\n",
      "       Duration_in_Current_address  Most_valuable_available_asset   Age_years  \\\n",
      "count                  1000.000000                    1000.000000  1000.00000   \n",
      "mean                      2.845000                       2.358000    35.54200   \n",
      "std                       1.103718                       1.050209    11.35267   \n",
      "min                       1.000000                       1.000000    19.00000   \n",
      "25%                       2.000000                       1.000000    27.00000   \n",
      "50%                       3.000000                       2.000000    33.00000   \n",
      "75%                       4.000000                       3.000000    42.00000   \n",
      "max                       4.000000                       4.000000    75.00000   \n",
      "\n",
      "       Concurrent_Credits  Type_of_apartment  No_of_Credits_at_this_Bank  \\\n",
      "count         1000.000000        1000.000000                 1000.000000   \n",
      "mean             2.675000           1.928000                    1.407000   \n",
      "std              0.705601           0.530186                    0.577654   \n",
      "min              1.000000           1.000000                    1.000000   \n",
      "25%              3.000000           2.000000                    1.000000   \n",
      "50%              3.000000           2.000000                    1.000000   \n",
      "75%              3.000000           2.000000                    2.000000   \n",
      "max              3.000000           3.000000                    4.000000   \n",
      "\n",
      "        Occupation  No_of_dependents    Telephone  Foreign_Worker  \n",
      "count  1000.000000       1000.000000  1000.000000     1000.000000  \n",
      "mean      2.904000          1.155000     1.404000        1.037000  \n",
      "std       0.653614          0.362086     0.490943        0.188856  \n",
      "min       1.000000          1.000000     1.000000        1.000000  \n",
      "25%       3.000000          1.000000     1.000000        1.000000  \n",
      "50%       3.000000          1.000000     1.000000        1.000000  \n",
      "75%       3.000000          1.000000     2.000000        1.000000  \n",
      "max       4.000000          2.000000     2.000000        2.000000  \n",
      "\n",
      "[8 rows x 21 columns]\n"
     ]
    }
   ],
   "source": [
    "print(data.describe())"
   ]
  },
  {
   "cell_type": "code",
   "execution_count": 23,
   "id": "f5cc712a-7d9b-4121-af7a-f5107b5d95b4",
   "metadata": {
    "tags": []
   },
   "outputs": [
    {
     "name": "stdout",
     "output_type": "stream",
     "text": [
      "\n",
      "    Среднее по столбцам:\n",
      "Account_Balance                      2.577\n",
      "Payment_Status_of_Previous_Credit    2.545\n",
      "Value_Savings_Stocks                 2.105\n",
      "Length_of_current_employment         3.384\n",
      "Sex_Marital_Status                   2.682\n",
      "No_of_Credits_at_this_Bank           1.407\n",
      "Guarantors                           1.145\n",
      "Concurrent_Credits                   2.675\n",
      "Purpose                              2.828\n",
      "dtype: float64\n",
      "\n",
      "    Стандартное отклонение по столбцам:\n",
      "Account_Balance                      1.257009\n",
      "Payment_Status_of_Previous_Credit    1.082578\n",
      "Value_Savings_Stocks                 1.579232\n",
      "Length_of_current_employment         1.207702\n",
      "Sex_Marital_Status                   0.707726\n",
      "No_of_Credits_at_this_Bank           0.577366\n",
      "Guarantors                           0.477467\n",
      "Concurrent_Credits                   0.705248\n",
      "Purpose                              2.743067\n",
      "dtype: float64\n",
      "\n",
      "    Нормализация данных по столбцам:\n",
      "     Account_Balance  Payment_Status_of_Previous_Credit  Value_Savings_Stocks  \\\n",
      "0          -1.254566                           1.344014             -0.699707   \n",
      "1          -1.254566                           1.344014             -0.699707   \n",
      "2          -0.459026                          -0.503428             -0.066488   \n",
      "3          -1.254566                           1.344014             -0.699707   \n",
      "4          -1.254566                           1.344014             -0.699707   \n",
      "..               ...                                ...                   ...   \n",
      "995        -1.254566                          -0.503428             -0.699707   \n",
      "996        -1.254566                          -0.503428             -0.699707   \n",
      "997         1.132053                           1.344014              1.833169   \n",
      "998        -0.459026                          -0.503428              1.833169   \n",
      "999        -1.254566                          -0.503428              1.833169   \n",
      "\n",
      "     Length_of_current_employment  Sex_Marital_Status  \\\n",
      "0                       -1.145978           -0.963650   \n",
      "1                       -0.317959            0.449326   \n",
      "2                        0.510060           -0.963650   \n",
      "3                       -0.317959            0.449326   \n",
      "4                       -0.317959            0.449326   \n",
      "..                            ...                 ...   \n",
      "995                     -0.317959            0.449326   \n",
      "996                      1.338078            0.449326   \n",
      "997                      1.338078            0.449326   \n",
      "998                     -1.973997            0.449326   \n",
      "999                      1.338078            0.449326   \n",
      "\n",
      "     No_of_Credits_at_this_Bank  Guarantors  Concurrent_Credits   Purpose  \n",
      "0                     -0.704926   -0.303686            0.460831 -0.301852  \n",
      "1                      1.027079   -0.303686            0.460831 -1.030963  \n",
      "2                     -0.704926   -0.303686            0.460831  2.250036  \n",
      "3                      1.027079   -0.303686            0.460831 -1.030963  \n",
      "4                      1.027079   -0.303686           -2.375050 -1.030963  \n",
      "..                          ...         ...                 ...       ...  \n",
      "995                   -0.704926   -0.303686            0.460831  0.062704  \n",
      "996                   -0.704926    1.790699            0.460831 -1.030963  \n",
      "997                   -0.704926   -0.303686            0.460831 -1.030963  \n",
      "998                   -0.704926   -0.303686            0.460831  0.062704  \n",
      "999                   -0.704926   -0.303686            0.460831 -0.301852  \n",
      "\n",
      "[1000 rows x 9 columns]\n",
      "\n"
     ]
    }
   ],
   "source": [
    "# Вычислите среднее по столбцам.\n",
    "mean = np.mean(X, axis=0)\n",
    "\n",
    "# Вычислите стандартное отклонение по столбцам.\n",
    "std = np.std(X, axis=0)\n",
    "\n",
    "# Нормализуйте данные по столбцам (стандартное масштабирование).\n",
    "normalized_X = (X - mean) / std\n",
    "\n",
    "print(f\"\"\"\n",
    "    Среднее по столбцам:\n",
    "{mean}\n",
    "\n",
    "    Стандартное отклонение по столбцам:\n",
    "{std}\n",
    "\n",
    "    Нормализация данных по столбцам:\n",
    "{normalized_X}\n",
    "\"\"\")"
   ]
  },
  {
   "cell_type": "code",
   "execution_count": 24,
   "id": "37c38a96-4e7d-46f1-8d11-031e3c6e7924",
   "metadata": {
    "tags": []
   },
   "outputs": [
    {
     "name": "stdout",
     "output_type": "stream",
     "text": [
      "[np.float64(0.6931471805599454), np.float64(0.6930366312206031), np.float64(0.6929318131124107), np.float64(0.6928327075867444), np.float64(0.692739296196342), np.float64(0.6926515606951501), np.float64(0.6925694830381524), np.float64(0.692493045381176), np.float64(0.6924222300806788), np.float64(0.6923570196935176), np.float64(0.6922973969766956), np.float64(0.6922433448870942), np.float64(0.6921948465811825), np.float64(0.6921518854147135), np.float64(0.6921144449423996), np.float64(0.692082508917572), np.float64(0.6920560612918248)]\n"
     ]
    }
   ],
   "source": [
    "lc = LinearClassifier(num_features=X.shape[1])\n",
    "history = lc.fit(normalized_X, Y.to_numpy(), learning_rate=0.01, epochs=17)\n",
    "\n",
    "print(history)"
   ]
  },
  {
   "cell_type": "code",
   "execution_count": 25,
   "id": "764abb9b-2fc3-4859-be34-06099840a914",
   "metadata": {
    "tags": []
   },
   "outputs": [
    {
     "data": {
      "image/png": "[encoded data removed]",
      "text/plain": [
       "<Figure size 640x480 with 1 Axes>"
      ]
     },
     "metadata": {},
     "output_type": "display_data"
    }
   ],
   "source": [
    "epochs = range(1, len(history) + 1)\n",
    "\n",
    "# Постройте график обучения.\n",
    "plt.plot(epochs, history, 'b', label='BCE')\n",
    "plt.title('График обучения')\n",
    "plt.xlabel('Эпохи')\n",
    "plt.ylabel('BCE')\n",
    "plt.legend()\n",
    "\n",
    "# Отобразите график.\n",
    "plt.show()"
   ]
  },
  {
   "cell_type": "code",
   "execution_count": 26,
   "id": "0fb2e181-a6c8-429d-bd55-2d8645c193a4",
   "metadata": {
    "tags": []
   },
   "outputs": [
    {
     "name": "stdout",
     "output_type": "stream",
     "text": [
      "accuracy:  0.506\n"
     ]
    }
   ],
   "source": [
    "pred = lc.predict(normalized_X)\n",
    "print('accuracy: ', (pred == Y).sum() / len(Y))\n"
   ]
  },
  {
   "cell_type": "markdown",
   "id": "ee311e77-efda-4f2f-bd13-308822206894",
   "metadata": {},
   "source": [
    "Вычислите для этой модели ROC-AUC, precision, recall и f1"
   ]
  },
  {
   "cell_type": "code",
   "execution_count": 27,
   "id": "d397bcc2",
   "metadata": {},
   "outputs": [
    {
     "name": "stdout",
     "output_type": "stream",
     "text": [
      "\n",
      "    ROC-AUC = 0.6290476190476191\n",
      "    precision = 0.9221311475409836\n",
      "    recall = 0.32142857142857145\n",
      "    f1 = 0.4766949152542373\n",
      "\n"
     ]
    }
   ],
   "source": [
    "import sklearn.metrics as skm\n",
    "\n",
    "print (f\"\"\"\n",
    "    ROC-AUC = {skm.roc_auc_score(Y,pred)}\n",
    "    precision = {skm.precision_score(Y,pred, pos_label = 1)}\n",
    "    recall = {skm.recall_score(Y,pred, pos_label = 1)}\n",
    "    f1 = {skm.f1_score(Y,pred, pos_label = 1)}\n",
    "\"\"\")"
   ]
  }
 ],
 "metadata": {
  "kernelspec": {
   "display_name": "Python 3",
   "language": "python",
   "name": "python3"
  },
  "language_info": {
   "codemirror_mode": {
    "name": "ipython",
    "version": 3
   },
   "file_extension": ".py",
   "mimetype": "text/x-python",
   "name": "python",
   "nbconvert_exporter": "python",
   "pygments_lexer": "ipython3",
   "version": "3.10.8"
  }
 },
 "nbformat": 4,
 "nbformat_minor": 5
}
